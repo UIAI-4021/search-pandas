{
 "cells": [
  {
   "cell_type": "code",
   "execution_count": 2,
   "metadata": {
    "collapsed": true,
    "jupyter": {
     "outputs_hidden": true
    },
    "pycharm": {
     "name": "#%%\n"
    }
   },
   "outputs": [],
   "source": [
    "import math\n",
    "\n",
    "import pandas as pd\n",
    "from Flight import Flight"
   ]
  },
  {
   "cell_type": "code",
   "execution_count": 11,
   "outputs": [],
   "source": [
    "from sklearn.model_selection import train_test_split\n",
    "\n",
    "\n",
    "def split(flight_price_df):\n",
    "    flight_price_df = pd.DataFrame(flight_price_df)\n",
    "    x = flight_price_df.drop(columns=['price'])\n",
    "    y = flight_price_df['price'].values.ravel()\n",
    "    x_train, x_test, y_train, y_test = train_test_split(\n",
    "        x,\n",
    "        y,\n",
    "        shuffle=True,\n",
    "        test_size=0.2\n",
    "    )\n",
    "    return x_train, x_test, y_train, y_test"
   ],
   "metadata": {
    "collapsed": false,
    "pycharm": {
     "name": "#%%\n"
    }
   }
  },
  {
   "cell_type": "code",
   "execution_count": 25,
   "outputs": [
    {
     "data": {
      "text/plain": "numpy.float64"
     },
     "execution_count": 25,
     "metadata": {},
     "output_type": "execute_result"
    }
   ],
   "source": [
    "from sklearn.preprocessing import StandardScaler\n",
    "\n",
    "df = pd.read_csv('../assets/files/Flight_Price_Dataset.csv')\n",
    "scaler = StandardScaler()\n",
    "df['days_left'] = scaler.fit_transform(df['days_left'].values.reshape(-1,1))\n",
    "df['duration'] = scaler.fit_transform(df['duration'].values.reshape(-1,1))\n",
    "df = pd.get_dummies(df, columns=['departure_time', 'arrival_time', 'stops', 'class'], drop_first=True)\n",
    "X_train, X_test, y_train, y_test = split(df)\n",
    "type(df['days_left'][0])"
   ],
   "metadata": {
    "collapsed": false,
    "pycharm": {
     "name": "#%%\n"
    }
   }
  },
  {
   "cell_type": "code",
   "execution_count": 16,
   "outputs": [
    {
     "data": {
      "text/plain": "        duration  days_left  departure_time_Early_Morning  \\\n193875 -0.343801   1.253820                             0   \n183192 -1.038677  -0.958732                             0   \n34379  -0.389663  -0.368718                             0   \n32844  -0.424407  -1.106235                             0   \n157130  0.513675   0.663806                             0   \n...          ...        ...                           ...   \n249525 -0.193708  -1.770001                             0   \n25402  -0.899702   1.475075                             0   \n224915 -0.100595  -0.737477                             0   \n115277 -0.228452  -1.474994                             0   \n7142   -1.386115   1.032565                             0   \n\n        departure_time_Evening  departure_time_Late_Night  \\\n193875                       0                          0   \n183192                       0                          0   \n34379                        0                          0   \n32844                        0                          0   \n157130                       1                          0   \n...                        ...                        ...   \n249525                       0                          0   \n25402                        0                          0   \n224915                       0                          0   \n115277                       1                          0   \n7142                         1                          0   \n\n        departure_time_Morning  departure_time_Night  \\\n193875                       1                     0   \n183192                       0                     0   \n34379                        0                     1   \n32844                        0                     1   \n157130                       0                     0   \n...                        ...                   ...   \n249525                       1                     0   \n25402                        1                     0   \n224915                       1                     0   \n115277                       0                     0   \n7142                         0                     0   \n\n        arrival_time_Early_Morning  arrival_time_Evening  \\\n193875                           0                     1   \n183192                           0                     1   \n34379                            1                     0   \n32844                            1                     0   \n157130                           0                     0   \n...                            ...                   ...   \n249525                           0                     0   \n25402                            0                     1   \n224915                           0                     0   \n115277                           1                     0   \n7142                             0                     0   \n\n        arrival_time_Late_Night  arrival_time_Morning  arrival_time_Night  \\\n193875                        0                     0                   0   \n183192                        0                     0                   0   \n34379                         0                     0                   0   \n32844                         0                     0                   0   \n157130                        0                     1                   0   \n...                         ...                   ...                 ...   \n249525                        0                     0                   1   \n25402                         0                     0                   0   \n224915                        0                     0                   1   \n115277                        0                     0                   0   \n7142                          0                     0                   1   \n\n        stops_two_or_more  stops_zero  class_Economy  \n193875                  0           0              0  \n183192                  0           0              1  \n34379                   0           0              1  \n32844                   0           0              1  \n157130                  0           0              1  \n...                   ...         ...            ...  \n249525                  0           0              0  \n25402                   0           0              1  \n224915                  0           0              0  \n115277                  0           0              1  \n7142                    0           1              1  \n\n[216110 rows x 15 columns]",
      "text/html": "<div>\n<style scoped>\n    .dataframe tbody tr th:only-of-type {\n        vertical-align: middle;\n    }\n\n    .dataframe tbody tr th {\n        vertical-align: top;\n    }\n\n    .dataframe thead th {\n        text-align: right;\n    }\n</style>\n<table border=\"1\" class=\"dataframe\">\n  <thead>\n    <tr style=\"text-align: right;\">\n      <th></th>\n      <th>duration</th>\n      <th>days_left</th>\n      <th>departure_time_Early_Morning</th>\n      <th>departure_time_Evening</th>\n      <th>departure_time_Late_Night</th>\n      <th>departure_time_Morning</th>\n      <th>departure_time_Night</th>\n      <th>arrival_time_Early_Morning</th>\n      <th>arrival_time_Evening</th>\n      <th>arrival_time_Late_Night</th>\n      <th>arrival_time_Morning</th>\n      <th>arrival_time_Night</th>\n      <th>stops_two_or_more</th>\n      <th>stops_zero</th>\n      <th>class_Economy</th>\n    </tr>\n  </thead>\n  <tbody>\n    <tr>\n      <th>193875</th>\n      <td>-0.343801</td>\n      <td>1.253820</td>\n      <td>0</td>\n      <td>0</td>\n      <td>0</td>\n      <td>1</td>\n      <td>0</td>\n      <td>0</td>\n      <td>1</td>\n      <td>0</td>\n      <td>0</td>\n      <td>0</td>\n      <td>0</td>\n      <td>0</td>\n      <td>0</td>\n    </tr>\n    <tr>\n      <th>183192</th>\n      <td>-1.038677</td>\n      <td>-0.958732</td>\n      <td>0</td>\n      <td>0</td>\n      <td>0</td>\n      <td>0</td>\n      <td>0</td>\n      <td>0</td>\n      <td>1</td>\n      <td>0</td>\n      <td>0</td>\n      <td>0</td>\n      <td>0</td>\n      <td>0</td>\n      <td>1</td>\n    </tr>\n    <tr>\n      <th>34379</th>\n      <td>-0.389663</td>\n      <td>-0.368718</td>\n      <td>0</td>\n      <td>0</td>\n      <td>0</td>\n      <td>0</td>\n      <td>1</td>\n      <td>1</td>\n      <td>0</td>\n      <td>0</td>\n      <td>0</td>\n      <td>0</td>\n      <td>0</td>\n      <td>0</td>\n      <td>1</td>\n    </tr>\n    <tr>\n      <th>32844</th>\n      <td>-0.424407</td>\n      <td>-1.106235</td>\n      <td>0</td>\n      <td>0</td>\n      <td>0</td>\n      <td>0</td>\n      <td>1</td>\n      <td>1</td>\n      <td>0</td>\n      <td>0</td>\n      <td>0</td>\n      <td>0</td>\n      <td>0</td>\n      <td>0</td>\n      <td>1</td>\n    </tr>\n    <tr>\n      <th>157130</th>\n      <td>0.513675</td>\n      <td>0.663806</td>\n      <td>0</td>\n      <td>1</td>\n      <td>0</td>\n      <td>0</td>\n      <td>0</td>\n      <td>0</td>\n      <td>0</td>\n      <td>0</td>\n      <td>1</td>\n      <td>0</td>\n      <td>0</td>\n      <td>0</td>\n      <td>1</td>\n    </tr>\n    <tr>\n      <th>...</th>\n      <td>...</td>\n      <td>...</td>\n      <td>...</td>\n      <td>...</td>\n      <td>...</td>\n      <td>...</td>\n      <td>...</td>\n      <td>...</td>\n      <td>...</td>\n      <td>...</td>\n      <td>...</td>\n      <td>...</td>\n      <td>...</td>\n      <td>...</td>\n      <td>...</td>\n    </tr>\n    <tr>\n      <th>249525</th>\n      <td>-0.193708</td>\n      <td>-1.770001</td>\n      <td>0</td>\n      <td>0</td>\n      <td>0</td>\n      <td>1</td>\n      <td>0</td>\n      <td>0</td>\n      <td>0</td>\n      <td>0</td>\n      <td>0</td>\n      <td>1</td>\n      <td>0</td>\n      <td>0</td>\n      <td>0</td>\n    </tr>\n    <tr>\n      <th>25402</th>\n      <td>-0.899702</td>\n      <td>1.475075</td>\n      <td>0</td>\n      <td>0</td>\n      <td>0</td>\n      <td>1</td>\n      <td>0</td>\n      <td>0</td>\n      <td>1</td>\n      <td>0</td>\n      <td>0</td>\n      <td>0</td>\n      <td>0</td>\n      <td>0</td>\n      <td>1</td>\n    </tr>\n    <tr>\n      <th>224915</th>\n      <td>-0.100595</td>\n      <td>-0.737477</td>\n      <td>0</td>\n      <td>0</td>\n      <td>0</td>\n      <td>1</td>\n      <td>0</td>\n      <td>0</td>\n      <td>0</td>\n      <td>0</td>\n      <td>0</td>\n      <td>1</td>\n      <td>0</td>\n      <td>0</td>\n      <td>0</td>\n    </tr>\n    <tr>\n      <th>115277</th>\n      <td>-0.228452</td>\n      <td>-1.474994</td>\n      <td>0</td>\n      <td>1</td>\n      <td>0</td>\n      <td>0</td>\n      <td>0</td>\n      <td>1</td>\n      <td>0</td>\n      <td>0</td>\n      <td>0</td>\n      <td>0</td>\n      <td>0</td>\n      <td>0</td>\n      <td>1</td>\n    </tr>\n    <tr>\n      <th>7142</th>\n      <td>-1.386115</td>\n      <td>1.032565</td>\n      <td>0</td>\n      <td>1</td>\n      <td>0</td>\n      <td>0</td>\n      <td>0</td>\n      <td>0</td>\n      <td>0</td>\n      <td>0</td>\n      <td>0</td>\n      <td>1</td>\n      <td>0</td>\n      <td>1</td>\n      <td>1</td>\n    </tr>\n  </tbody>\n</table>\n<p>216110 rows × 15 columns</p>\n</div>"
     },
     "execution_count": 16,
     "metadata": {},
     "output_type": "execute_result"
    }
   ],
   "source": [
    "X_train"
   ],
   "metadata": {
    "collapsed": false,
    "pycharm": {
     "name": "#%%\n"
    }
   }
  },
  {
   "cell_type": "code",
   "execution_count": 17,
   "outputs": [
    {
     "data": {
      "text/plain": "array([49177,  4202,  4149, ..., 69244,  3987,  2410], dtype=int64)"
     },
     "execution_count": 17,
     "metadata": {},
     "output_type": "execute_result"
    }
   ],
   "source": [
    "y_train"
   ],
   "metadata": {
    "collapsed": false,
    "pycharm": {
     "name": "#%%\n"
    }
   }
  },
  {
   "cell_type": "code",
   "execution_count": 18,
   "outputs": [],
   "source": [
    "from tqdm import tqdm\n",
    "import numpy as np\n",
    "from sklearn.metrics import r2_score\n",
    "from sklearn.metrics import mean_squared_error\n",
    "from sklearn.metrics import mean_absolute_error\n",
    "\n",
    "\n",
    "def compute_cost(X, y, w, b):\n",
    "        m = X.shape[0]\n",
    "        err = (X @ w + b - y) ** 2\n",
    "        cost = np.sum(err) / (2 * m)\n",
    "        return cost\n",
    "\n",
    "\n",
    "def compute_gradient(X, y, w, b):\n",
    "    m = X.shape[0]\n",
    "    err = X @ w + b - y\n",
    "    dj_dw = (X.T @ err) / m\n",
    "    dj_db = np.sum(err) / m\n",
    "\n",
    "    return dj_db, dj_dw\n",
    "\n",
    "\n",
    "def gradient_descent(X, y, w_in, b_in, alpha, num_iters):\n",
    "    w_history = []\n",
    "    J_history = []\n",
    "    w = w_in.copy()\n",
    "    b = b_in\n",
    "\n",
    "\n",
    "\n",
    "    converged = False\n",
    "    for i in tqdm(range(num_iters)):\n",
    "        if converged:\n",
    "            break\n",
    "\n",
    "        dj_db, dj_dw = compute_gradient(X, y, w, b)\n",
    "\n",
    "        w -= alpha * dj_dw\n",
    "        b -= alpha * dj_db\n",
    "\n",
    "        if i < 100000:\n",
    "            J_history.append(compute_cost(X, y, w, b))\n",
    "\n",
    "        w_history.append(w)\n",
    "\n",
    "        if len(w_history) >= 200:\n",
    "            for j in range(len(w_history)-1, len(w_history)-100, -1):\n",
    "                if np.allclose(w_history[-1], w_history[j], atol=1e-2):\n",
    "                    continue\n",
    "                else:\n",
    "                    break\n",
    "            else:\n",
    "                converged = True\n",
    "\n",
    "\n",
    "    return w, b, J_history\n",
    "\n",
    "def checking_error(y_true, y_pred):\n",
    "    # MAE\n",
    "    mae = mean_absolute_error(y_true, y_pred)\n",
    "    # MSE\n",
    "    mse = mean_squared_error(y_true, y_pred)\n",
    "    # RMSE\n",
    "    rsme = math.sqrt(mse)\n",
    "    # R2\n",
    "    r2 = r2_score(y_true, y_pred)\n",
    "\n",
    "    print(f'MAE: {mae}, MSE: {mse}, RMSE: {rsme}, R2: {r2}')"
   ],
   "metadata": {
    "collapsed": false,
    "pycharm": {
     "name": "#%%\n"
    }
   }
  },
  {
   "cell_type": "code",
   "execution_count": 19,
   "outputs": [
    {
     "name": "stderr",
     "output_type": "stream",
     "text": [
      "  0%|          | 200/216110 [00:07<2:07:02, 28.33it/s]\n"
     ]
    },
    {
     "name": "stdout",
     "output_type": "stream",
     "text": [
      "b,w found by gradient descent: 1197.61,duration                        270.211812\n",
      "days_left                      -121.593566\n",
      "departure_time_Early_Morning    261.614516\n",
      "departure_time_Evening          263.163696\n",
      "departure_time_Late_Night         2.329916\n",
      "departure_time_Morning          292.279161\n",
      "departure_time_Night            212.046953\n",
      "arrival_time_Early_Morning       43.246855\n",
      "arrival_time_Evening            345.709308\n",
      "arrival_time_Late_Night          29.677872\n",
      "arrival_time_Morning            265.672008\n",
      "arrival_time_Night              378.213392\n",
      "stops_two_or_more                34.485289\n",
      "stops_zero                       62.257162\n",
      "class_Economy                   232.039013\n",
      "dtype: float64 \n"
     ]
    },
    {
     "ename": "KeyError",
     "evalue": "0",
     "output_type": "error",
     "traceback": [
      "\u001B[1;31m---------------------------------------------------------------------------\u001B[0m",
      "\u001B[1;31mKeyError\u001B[0m                                  Traceback (most recent call last)",
      "File \u001B[1;32m~\\AppData\\Local\\Programs\\Python\\Python310\\lib\\site-packages\\pandas\\core\\indexes\\base.py:3803\u001B[0m, in \u001B[0;36mIndex.get_loc\u001B[1;34m(self, key, method, tolerance)\u001B[0m\n\u001B[0;32m   3802\u001B[0m \u001B[38;5;28;01mtry\u001B[39;00m:\n\u001B[1;32m-> 3803\u001B[0m     \u001B[38;5;28;01mreturn\u001B[39;00m \u001B[38;5;28;43mself\u001B[39;49m\u001B[38;5;241;43m.\u001B[39;49m\u001B[43m_engine\u001B[49m\u001B[38;5;241;43m.\u001B[39;49m\u001B[43mget_loc\u001B[49m\u001B[43m(\u001B[49m\u001B[43mcasted_key\u001B[49m\u001B[43m)\u001B[49m\n\u001B[0;32m   3804\u001B[0m \u001B[38;5;28;01mexcept\u001B[39;00m \u001B[38;5;167;01mKeyError\u001B[39;00m \u001B[38;5;28;01mas\u001B[39;00m err:\n",
      "File \u001B[1;32m~\\AppData\\Local\\Programs\\Python\\Python310\\lib\\site-packages\\pandas\\_libs\\index.pyx:138\u001B[0m, in \u001B[0;36mpandas._libs.index.IndexEngine.get_loc\u001B[1;34m()\u001B[0m\n",
      "File \u001B[1;32m~\\AppData\\Local\\Programs\\Python\\Python310\\lib\\site-packages\\pandas\\_libs\\index.pyx:165\u001B[0m, in \u001B[0;36mpandas._libs.index.IndexEngine.get_loc\u001B[1;34m()\u001B[0m\n",
      "File \u001B[1;32mpandas\\_libs\\hashtable_class_helper.pxi:5745\u001B[0m, in \u001B[0;36mpandas._libs.hashtable.PyObjectHashTable.get_item\u001B[1;34m()\u001B[0m\n",
      "File \u001B[1;32mpandas\\_libs\\hashtable_class_helper.pxi:5753\u001B[0m, in \u001B[0;36mpandas._libs.hashtable.PyObjectHashTable.get_item\u001B[1;34m()\u001B[0m\n",
      "\u001B[1;31mKeyError\u001B[0m: 0",
      "\nThe above exception was the direct cause of the following exception:\n",
      "\u001B[1;31mKeyError\u001B[0m                                  Traceback (most recent call last)",
      "Cell \u001B[1;32mIn[19], line 26\u001B[0m\n\u001B[0;32m     24\u001B[0m pre \u001B[38;5;241m=\u001B[39m []\n\u001B[0;32m     25\u001B[0m \u001B[38;5;28;01mfor\u001B[39;00m i \u001B[38;5;129;01min\u001B[39;00m \u001B[38;5;28mrange\u001B[39m(m):\n\u001B[1;32m---> 26\u001B[0m     \u001B[38;5;28mprint\u001B[39m(\u001B[38;5;124mf\u001B[39m\u001B[38;5;124m\"\u001B[39m\u001B[38;5;124mprediction: \u001B[39m\u001B[38;5;132;01m{\u001B[39;00mnp\u001B[38;5;241m.\u001B[39mdot(\u001B[43mX_train\u001B[49m\u001B[43m[\u001B[49m\u001B[43mi\u001B[49m\u001B[43m]\u001B[49m,\u001B[38;5;250m \u001B[39mw_final)\u001B[38;5;250m \u001B[39m\u001B[38;5;241m+\u001B[39m\u001B[38;5;250m \u001B[39mb_final\u001B[38;5;132;01m:\u001B[39;00m\u001B[38;5;124m0.2f\u001B[39m\u001B[38;5;132;01m}\u001B[39;00m\u001B[38;5;124m, target value: \u001B[39m\u001B[38;5;132;01m{\u001B[39;00my_train[i]\u001B[38;5;132;01m}\u001B[39;00m\u001B[38;5;124m\"\u001B[39m)\n\u001B[0;32m     27\u001B[0m     pre\u001B[38;5;241m.\u001B[39mappend(np\u001B[38;5;241m.\u001B[39mdot(X_train[i], w_final) \u001B[38;5;241m+\u001B[39m b_final)\n\u001B[0;32m     29\u001B[0m \u001B[38;5;28mprint\u001B[39m(end \u001B[38;5;241m-\u001B[39m start)\n",
      "File \u001B[1;32m~\\AppData\\Local\\Programs\\Python\\Python310\\lib\\site-packages\\pandas\\core\\frame.py:3805\u001B[0m, in \u001B[0;36mDataFrame.__getitem__\u001B[1;34m(self, key)\u001B[0m\n\u001B[0;32m   3803\u001B[0m \u001B[38;5;28;01mif\u001B[39;00m \u001B[38;5;28mself\u001B[39m\u001B[38;5;241m.\u001B[39mcolumns\u001B[38;5;241m.\u001B[39mnlevels \u001B[38;5;241m>\u001B[39m \u001B[38;5;241m1\u001B[39m:\n\u001B[0;32m   3804\u001B[0m     \u001B[38;5;28;01mreturn\u001B[39;00m \u001B[38;5;28mself\u001B[39m\u001B[38;5;241m.\u001B[39m_getitem_multilevel(key)\n\u001B[1;32m-> 3805\u001B[0m indexer \u001B[38;5;241m=\u001B[39m \u001B[38;5;28;43mself\u001B[39;49m\u001B[38;5;241;43m.\u001B[39;49m\u001B[43mcolumns\u001B[49m\u001B[38;5;241;43m.\u001B[39;49m\u001B[43mget_loc\u001B[49m\u001B[43m(\u001B[49m\u001B[43mkey\u001B[49m\u001B[43m)\u001B[49m\n\u001B[0;32m   3806\u001B[0m \u001B[38;5;28;01mif\u001B[39;00m is_integer(indexer):\n\u001B[0;32m   3807\u001B[0m     indexer \u001B[38;5;241m=\u001B[39m [indexer]\n",
      "File \u001B[1;32m~\\AppData\\Local\\Programs\\Python\\Python310\\lib\\site-packages\\pandas\\core\\indexes\\base.py:3805\u001B[0m, in \u001B[0;36mIndex.get_loc\u001B[1;34m(self, key, method, tolerance)\u001B[0m\n\u001B[0;32m   3803\u001B[0m     \u001B[38;5;28;01mreturn\u001B[39;00m \u001B[38;5;28mself\u001B[39m\u001B[38;5;241m.\u001B[39m_engine\u001B[38;5;241m.\u001B[39mget_loc(casted_key)\n\u001B[0;32m   3804\u001B[0m \u001B[38;5;28;01mexcept\u001B[39;00m \u001B[38;5;167;01mKeyError\u001B[39;00m \u001B[38;5;28;01mas\u001B[39;00m err:\n\u001B[1;32m-> 3805\u001B[0m     \u001B[38;5;28;01mraise\u001B[39;00m \u001B[38;5;167;01mKeyError\u001B[39;00m(key) \u001B[38;5;28;01mfrom\u001B[39;00m \u001B[38;5;21;01merr\u001B[39;00m\n\u001B[0;32m   3806\u001B[0m \u001B[38;5;28;01mexcept\u001B[39;00m \u001B[38;5;167;01mTypeError\u001B[39;00m:\n\u001B[0;32m   3807\u001B[0m     \u001B[38;5;66;03m# If we have a listlike key, _check_indexing_error will raise\u001B[39;00m\n\u001B[0;32m   3808\u001B[0m     \u001B[38;5;66;03m#  InvalidIndexError. Otherwise we fall through and re-raise\u001B[39;00m\n\u001B[0;32m   3809\u001B[0m     \u001B[38;5;66;03m#  the TypeError.\u001B[39;00m\n\u001B[0;32m   3810\u001B[0m     \u001B[38;5;28mself\u001B[39m\u001B[38;5;241m.\u001B[39m_check_indexing_error(key)\n",
      "\u001B[1;31mKeyError\u001B[0m: 0"
     ]
    }
   ],
   "source": [
    "import time\n",
    "\n",
    "import matplotlib\n",
    "# matplotlib.use('TkAgg')  # You can replace 'TkAgg' with the backend of your choice, e.g., 'Qt5Agg', 'Agg', etc.\n",
    "import matplotlib.pyplot as plt\n",
    "import numpy as np\n",
    "\n",
    "from globals import _flight_price_dataset\n",
    "import pandas as pd\n",
    "\n",
    "\n",
    "m,n = X_train.shape\n",
    "initial_w = np.zeros((n,))\n",
    "initial_b = 0.\n",
    "# some gradient descent settings\n",
    "iterations = m\n",
    "alpha = 0.0003\n",
    "# run gradient descent\n",
    "start = time.time()\n",
    "w_final, b_final, J_hist = gradient_descent(X_train, y_train, initial_w, initial_b, alpha, iterations)\n",
    "end = time.time()\n",
    "print(f\"b,w found by gradient descent: {b_final:0.2f},{w_final} \")\n",
    "m, _ = X_train.shape\n",
    "pre = []\n",
    "for i in range(m):\n",
    "    print(f\"prediction: {np.dot(X_train[i], w_final) + b_final:0.2f}, target value: {y_train[i]}\")\n",
    "    pre.append(np.dot(X_train[i], w_final) + b_final)\n",
    "\n",
    "print(end - start)\n",
    "\n",
    "checking_error(y_train, pre)\n",
    "\n",
    "\n",
    "fig, (ax1, ax2) = plt.subplots(1, 2, figsize=(12, 4))\n",
    "fig.tight_layout()\n",
    "\n",
    "ax1.plot(J_hist)\n",
    "ax1.set_title(\"Cost vs. iteration\")\n",
    "ax1.set_ylabel('Cost')\n",
    "ax1.set_xlabel('iteration step')\n",
    "\n",
    "plt.show()\n",
    "\n",
    "\n",
    "\n",
    "fig, (ax1, ax2) = plt.subplots(1, 2, figsize=(12, 4))\n",
    "fig.tight_layout()\n",
    "\n",
    "ax1.plot(J_hist)\n",
    "ax1.set_title(\"Cost vs. iteration\")\n",
    "ax1.set_ylabel('Cost')\n",
    "ax1.set_xlabel('iteration step')\n",
    "\n",
    "plt.show()\n"
   ],
   "metadata": {
    "collapsed": false,
    "pycharm": {
     "name": "#%%\n"
    }
   }
  },
  {
   "cell_type": "code",
   "execution_count": null,
   "outputs": [],
   "source": [],
   "metadata": {
    "collapsed": false,
    "pycharm": {
     "name": "#%%\n"
    }
   }
  }
 ],
 "metadata": {
  "kernelspec": {
   "display_name": "Python 3 (ipykernel)",
   "language": "python",
   "name": "python3"
  },
  "language_info": {
   "codemirror_mode": {
    "name": "ipython",
    "version": 3
   },
   "file_extension": ".py",
   "mimetype": "text/x-python",
   "name": "python",
   "nbconvert_exporter": "python",
   "pygments_lexer": "ipython3",
   "version": "3.10.7"
  }
 },
 "nbformat": 4,
 "nbformat_minor": 4
}