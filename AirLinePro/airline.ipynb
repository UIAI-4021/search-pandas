{
 "cells": [
  {
   "cell_type": "code",
   "execution_count": 3,
   "metadata": {
    "collapsed": true,
    "pycharm": {
     "name": "#%%\n"
    }
   },
   "outputs": [],
   "source": [
    "import pandas as pd\n",
    "from Flight import Flight"
   ]
  },
  {
   "cell_type": "code",
   "execution_count": 14,
   "outputs": [],
   "source": [
    "df = pd.read_csv('../assets/files/Flight_Data_Reduced.csv')\n",
    "df.drop_duplicates(inplace=True)"
   ],
   "metadata": {
    "collapsed": false,
    "pycharm": {
     "name": "#%%\n"
    }
   }
  },
  {
   "cell_type": "code",
   "execution_count": 22,
   "outputs": [
    {
     "name": "stdout",
     "output_type": "stream",
     "text": [
      "Airline                                            Pegasus Airlines\n",
      "SourceAirport                   Sabiha Gökçen International Airport\n",
      "DestinationAirport              Imam Khomeini International Airport\n",
      "SourceAirport_City                                         Istanbul\n",
      "SourceAirport_Country                                        Turkey\n",
      "SourceAirport_Latitude                                    40.898602\n",
      "SourceAirport_Longitude                                     29.3092\n",
      "SourceAirport_Altitude                                          312\n",
      "DestinationAirport_City                                      Tehran\n",
      "DestinationAirport_Country                                     Iran\n",
      "DestinationAirport_Latitude                                 35.4161\n",
      "DestinationAirport_Longitude                              51.152199\n",
      "DestinationAirport_Altitude                                    3305\n",
      "Distance                                                1998.541333\n",
      "FlyTime                                                     2.98266\n",
      "Price                                                    969.270667\n",
      "Name: 0, dtype: object \n",
      "########\n",
      " Airline                                            Turkish Airlines\n",
      "SourceAirport                   Sabiha Gökçen International Airport\n",
      "DestinationAirport              Imam Khomeini International Airport\n",
      "SourceAirport_City                                         Istanbul\n",
      "SourceAirport_Country                                        Turkey\n",
      "SourceAirport_Latitude                                    40.898602\n",
      "SourceAirport_Longitude                                     29.3092\n",
      "SourceAirport_Altitude                                          312\n",
      "DestinationAirport_City                                      Tehran\n",
      "DestinationAirport_Country                                     Iran\n",
      "DestinationAirport_Latitude                                 35.4161\n",
      "DestinationAirport_Longitude                              51.152199\n",
      "DestinationAirport_Altitude                                    3305\n",
      "Distance                                                1998.541333\n",
      "FlyTime                                                     2.98266\n",
      "Price                                                    969.270667\n",
      "Name: 1, dtype: object\n",
      "0\n"
     ]
    }
   ],
   "source": [
    "j = 0\n",
    "for i , r in df.iterrows():\n",
    "    try:\n",
    "        if df['SourceAirport'][i] == df['SourceAirport'][i + 1] and df['DestinationAirport'][i] == df['DestinationAirport'][i + 1]:\n",
    "            print(df.loc[i] , '\\n########\\n' , df.loc[i+1])\n",
    "            break\n",
    "            j+=1\n",
    "    except Exception:\n",
    "        continue\n",
    "print(j)"
   ],
   "metadata": {
    "collapsed": false,
    "pycharm": {
     "name": "#%%\n"
    }
   }
  },
  {
   "cell_type": "code",
   "execution_count": null,
   "outputs": [],
   "source": [
    "# def set_data(records):\n",
    "#     Flights = list()\n",
    "#     for index, record in df.iterrows():\n",
    "#         f = Flight(record['Airline'] , record['SourceAirport'] ,record['DestinationAirport']\n",
    "#                ,record['SourceAirport_City'] ,record['SourceAirport_Country']\n",
    "#                ,record['SourceAirport_Latitude'] ,record['SourceAirport_Longitude']\n",
    "#                , record['SourceAirport_Altitude'] ,record['DestinationAirport_City']\n",
    "#                ,record['DestinationAirport_Country'] ,record['DestinationAirport_Latitude']\n",
    "#                ,record['DestinationAirport_Longitude'] ,record['DestinationAirport_Altitude']\n",
    "#                ,record['Distance'] ,record['FlyTime'] ,record['Price'])\n",
    "#         Flights.append(f)\n",
    "#     return Flights"
   ],
   "metadata": {
    "collapsed": false,
    "pycharm": {
     "name": "#%%\n"
    }
   }
  },
  {
   "cell_type": "code",
   "execution_count": null,
   "outputs": [],
   "source": [],
   "metadata": {
    "collapsed": false,
    "pycharm": {
     "name": "#%%\n"
    }
   }
  },
  {
   "cell_type": "code",
   "execution_count": 54,
   "outputs": [],
   "source": [
    "tmp = set_data(df)"
   ],
   "metadata": {
    "collapsed": false,
    "pycharm": {
     "name": "#%%\n"
    }
   }
  },
  {
   "cell_type": "code",
   "execution_count": 49,
   "outputs": [],
   "source": [],
   "metadata": {
    "collapsed": false,
    "pycharm": {
     "name": "#%%\n"
    }
   }
  },
  {
   "cell_type": "code",
   "execution_count": 47,
   "outputs": [],
   "source": [],
   "metadata": {
    "collapsed": false,
    "pycharm": {
     "name": "#%%\n"
    }
   }
  }
 ],
 "metadata": {
  "kernelspec": {
   "display_name": "Python 3",
   "language": "python",
   "name": "python3"
  },
  "language_info": {
   "codemirror_mode": {
    "name": "ipython",
    "version": 2
   },
   "file_extension": ".py",
   "mimetype": "text/x-python",
   "name": "python",
   "nbconvert_exporter": "python",
   "pygments_lexer": "ipython2",
   "version": "2.7.6"
  }
 },
 "nbformat": 4,
 "nbformat_minor": 0
}